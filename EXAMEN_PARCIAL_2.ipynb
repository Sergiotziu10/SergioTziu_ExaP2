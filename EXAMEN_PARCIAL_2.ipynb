{
 "cells": [
  {
   "cell_type": "code",
   "execution_count": 1,
   "id": "informal-controversy",
   "metadata": {},
   "outputs": [],
   "source": [
    "import pandas as pd"
   ]
  },
  {
   "cell_type": "code",
   "execution_count": 2,
   "id": "metropolitan-australia",
   "metadata": {},
   "outputs": [],
   "source": [
    "df = pd.read_csv('Examen/data_by_artist.csv')"
   ]
  },
  {
   "cell_type": "code",
   "execution_count": 3,
   "id": "latter-binding",
   "metadata": {},
   "outputs": [
    {
     "name": "stdout",
     "output_type": "stream",
     "text": [
      "<class 'pandas.core.frame.DataFrame'>\n",
      "RangeIndex: 32539 entries, 0 to 32538\n",
      "Data columns (total 15 columns):\n",
      " #   Column            Non-Null Count  Dtype  \n",
      "---  ------            --------------  -----  \n",
      " 0   artists           32539 non-null  object \n",
      " 1   acousticness      32539 non-null  float64\n",
      " 2   danceability      32539 non-null  float64\n",
      " 3   duration_ms       32539 non-null  float64\n",
      " 4   energy            32539 non-null  float64\n",
      " 5   instrumentalness  32539 non-null  float64\n",
      " 6   liveness          32539 non-null  float64\n",
      " 7   loudness          32539 non-null  float64\n",
      " 8   speechiness       32539 non-null  float64\n",
      " 9   tempo             32539 non-null  float64\n",
      " 10  valence           32539 non-null  float64\n",
      " 11  popularity        32539 non-null  float64\n",
      " 12  key               32539 non-null  int64  \n",
      " 13  mode              32539 non-null  int64  \n",
      " 14  count             32539 non-null  int64  \n",
      "dtypes: float64(11), int64(3), object(1)\n",
      "memory usage: 3.7+ MB\n"
     ]
    }
   ],
   "source": [
    "df.info()"
   ]
  },
  {
   "cell_type": "code",
   "execution_count": 4,
   "id": "pending-maine",
   "metadata": {},
   "outputs": [],
   "source": [
    "df = df.head(10).sort_values(by='artists', ascending=True)"
   ]
  },
  {
   "cell_type": "code",
   "execution_count": 5,
   "id": "widespread-pregnancy",
   "metadata": {},
   "outputs": [
    {
     "data": {
      "text/plain": [
       "0                     \"Cats\" 1981 Original London Cast\n",
       "1                            \"Cats\" 1983 Broadway Cast\n",
       "2          \"Fiddler On The Roof” Motion Picture Chorus\n",
       "3       \"Fiddler On The Roof” Motion Picture Orchestra\n",
       "4    \"Joseph And The Amazing Technicolor Dreamcoat\"...\n",
       "5    \"Joseph And The Amazing Technicolor Dreamcoat\"...\n",
       "6                               \"Mama\" Helen Teagarden\n",
       "7                              \"Test for Victor Young\"\n",
       "8                                  \"Weird Al\" Yankovic\n",
       "9                                               $0dg0d\n",
       "Name: artists, dtype: object"
      ]
     },
     "execution_count": 5,
     "metadata": {},
     "output_type": "execute_result"
    }
   ],
   "source": [
    "df['artists']"
   ]
  },
  {
   "cell_type": "code",
   "execution_count": 6,
   "id": "together-transsexual",
   "metadata": {},
   "outputs": [
    {
     "data": {
      "text/html": [
       "<div>\n",
       "<style scoped>\n",
       "    .dataframe tbody tr th:only-of-type {\n",
       "        vertical-align: middle;\n",
       "    }\n",
       "\n",
       "    .dataframe tbody tr th {\n",
       "        vertical-align: top;\n",
       "    }\n",
       "\n",
       "    .dataframe thead th {\n",
       "        text-align: right;\n",
       "    }\n",
       "</style>\n",
       "<table border=\"1\" class=\"dataframe\">\n",
       "  <thead>\n",
       "    <tr style=\"text-align: right;\">\n",
       "      <th></th>\n",
       "      <th>acousticness</th>\n",
       "      <th>danceability</th>\n",
       "      <th>duration_ms</th>\n",
       "      <th>energy</th>\n",
       "      <th>instrumentalness</th>\n",
       "      <th>liveness</th>\n",
       "      <th>loudness</th>\n",
       "      <th>speechiness</th>\n",
       "      <th>tempo</th>\n",
       "      <th>valence</th>\n",
       "      <th>popularity</th>\n",
       "      <th>key</th>\n",
       "      <th>mode</th>\n",
       "      <th>count</th>\n",
       "    </tr>\n",
       "  </thead>\n",
       "  <tbody>\n",
       "    <tr>\n",
       "      <th>count</th>\n",
       "      <td>10.000000</td>\n",
       "      <td>10.000000</td>\n",
       "      <td>10.000000</td>\n",
       "      <td>10.000000</td>\n",
       "      <td>10.000000</td>\n",
       "      <td>10.000000</td>\n",
       "      <td>10.000000</td>\n",
       "      <td>10.000000</td>\n",
       "      <td>10.000000</td>\n",
       "      <td>10.000000</td>\n",
       "      <td>10.000000</td>\n",
       "      <td>10.000000</td>\n",
       "      <td>10.000000</td>\n",
       "      <td>10.000000</td>\n",
       "    </tr>\n",
       "    <tr>\n",
       "      <th>mean</th>\n",
       "      <td>0.625324</td>\n",
       "      <td>0.539046</td>\n",
       "      <td>232485.356808</td>\n",
       "      <td>0.460544</td>\n",
       "      <td>0.046830</td>\n",
       "      <td>0.304853</td>\n",
       "      <td>-13.104775</td>\n",
       "      <td>0.153385</td>\n",
       "      <td>117.100173</td>\n",
       "      <td>0.555244</td>\n",
       "      <td>24.975189</td>\n",
       "      <td>5.800000</td>\n",
       "      <td>0.900000</td>\n",
       "      <td>21.300000</td>\n",
       "    </tr>\n",
       "    <tr>\n",
       "      <th>std</th>\n",
       "      <td>0.288858</td>\n",
       "      <td>0.137067</td>\n",
       "      <td>61565.483367</td>\n",
       "      <td>0.182680</td>\n",
       "      <td>0.058994</td>\n",
       "      <td>0.174940</td>\n",
       "      <td>4.605780</td>\n",
       "      <td>0.057644</td>\n",
       "      <td>21.295424</td>\n",
       "      <td>0.241262</td>\n",
       "      <td>16.828202</td>\n",
       "      <td>3.552777</td>\n",
       "      <td>0.316228</td>\n",
       "      <td>31.429109</td>\n",
       "    </tr>\n",
       "    <tr>\n",
       "      <th>min</th>\n",
       "      <td>0.110000</td>\n",
       "      <td>0.348286</td>\n",
       "      <td>135533.000000</td>\n",
       "      <td>0.245770</td>\n",
       "      <td>0.000009</td>\n",
       "      <td>0.154000</td>\n",
       "      <td>-20.615000</td>\n",
       "      <td>0.082275</td>\n",
       "      <td>77.375857</td>\n",
       "      <td>0.268865</td>\n",
       "      <td>0.000000</td>\n",
       "      <td>0.000000</td>\n",
       "      <td>0.000000</td>\n",
       "      <td>2.000000</td>\n",
       "    </tr>\n",
       "    <tr>\n",
       "      <th>25%</th>\n",
       "      <td>0.530827</td>\n",
       "      <td>0.448084</td>\n",
       "      <td>186357.990566</td>\n",
       "      <td>0.319507</td>\n",
       "      <td>0.007632</td>\n",
       "      <td>0.180800</td>\n",
       "      <td>-15.537206</td>\n",
       "      <td>0.108347</td>\n",
       "      <td>105.815315</td>\n",
       "      <td>0.361747</td>\n",
       "      <td>10.134615</td>\n",
       "      <td>5.000000</td>\n",
       "      <td>1.000000</td>\n",
       "      <td>3.250000</td>\n",
       "    </tr>\n",
       "    <tr>\n",
       "      <th>50%</th>\n",
       "      <td>0.661750</td>\n",
       "      <td>0.477217</td>\n",
       "      <td>240697.731481</td>\n",
       "      <td>0.440404</td>\n",
       "      <td>0.017427</td>\n",
       "      <td>0.279266</td>\n",
       "      <td>-12.562150</td>\n",
       "      <td>0.139100</td>\n",
       "      <td>122.676845</td>\n",
       "      <td>0.453393</td>\n",
       "      <td>33.017296</td>\n",
       "      <td>6.000000</td>\n",
       "      <td>1.000000</td>\n",
       "      <td>8.500000</td>\n",
       "    </tr>\n",
       "    <tr>\n",
       "      <th>75%</th>\n",
       "      <td>0.861047</td>\n",
       "      <td>0.647344</td>\n",
       "      <td>269595.107143</td>\n",
       "      <td>0.506071</td>\n",
       "      <td>0.075547</td>\n",
       "      <td>0.323143</td>\n",
       "      <td>-10.313536</td>\n",
       "      <td>0.200915</td>\n",
       "      <td>132.854453</td>\n",
       "      <td>0.758439</td>\n",
       "      <td>34.530423</td>\n",
       "      <td>8.750000</td>\n",
       "      <td>1.000000</td>\n",
       "      <td>25.500000</td>\n",
       "    </tr>\n",
       "    <tr>\n",
       "      <th>max</th>\n",
       "      <td>0.927000</td>\n",
       "      <td>0.734000</td>\n",
       "      <td>328920.000000</td>\n",
       "      <td>0.822000</td>\n",
       "      <td>0.186000</td>\n",
       "      <td>0.737000</td>\n",
       "      <td>-5.387000</td>\n",
       "      <td>0.256000</td>\n",
       "      <td>141.948000</td>\n",
       "      <td>0.902000</td>\n",
       "      <td>42.000000</td>\n",
       "      <td>10.000000</td>\n",
       "      <td>1.000000</td>\n",
       "      <td>106.000000</td>\n",
       "    </tr>\n",
       "  </tbody>\n",
       "</table>\n",
       "</div>"
      ],
      "text/plain": [
       "       acousticness  danceability    duration_ms     energy  instrumentalness  \\\n",
       "count     10.000000     10.000000      10.000000  10.000000         10.000000   \n",
       "mean       0.625324      0.539046  232485.356808   0.460544          0.046830   \n",
       "std        0.288858      0.137067   61565.483367   0.182680          0.058994   \n",
       "min        0.110000      0.348286  135533.000000   0.245770          0.000009   \n",
       "25%        0.530827      0.448084  186357.990566   0.319507          0.007632   \n",
       "50%        0.661750      0.477217  240697.731481   0.440404          0.017427   \n",
       "75%        0.861047      0.647344  269595.107143   0.506071          0.075547   \n",
       "max        0.927000      0.734000  328920.000000   0.822000          0.186000   \n",
       "\n",
       "        liveness   loudness  speechiness       tempo    valence  popularity  \\\n",
       "count  10.000000  10.000000    10.000000   10.000000  10.000000   10.000000   \n",
       "mean    0.304853 -13.104775     0.153385  117.100173   0.555244   24.975189   \n",
       "std     0.174940   4.605780     0.057644   21.295424   0.241262   16.828202   \n",
       "min     0.154000 -20.615000     0.082275   77.375857   0.268865    0.000000   \n",
       "25%     0.180800 -15.537206     0.108347  105.815315   0.361747   10.134615   \n",
       "50%     0.279266 -12.562150     0.139100  122.676845   0.453393   33.017296   \n",
       "75%     0.323143 -10.313536     0.200915  132.854453   0.758439   34.530423   \n",
       "max     0.737000  -5.387000     0.256000  141.948000   0.902000   42.000000   \n",
       "\n",
       "             key       mode       count  \n",
       "count  10.000000  10.000000   10.000000  \n",
       "mean    5.800000   0.900000   21.300000  \n",
       "std     3.552777   0.316228   31.429109  \n",
       "min     0.000000   0.000000    2.000000  \n",
       "25%     5.000000   1.000000    3.250000  \n",
       "50%     6.000000   1.000000    8.500000  \n",
       "75%     8.750000   1.000000   25.500000  \n",
       "max    10.000000   1.000000  106.000000  "
      ]
     },
     "execution_count": 6,
     "metadata": {},
     "output_type": "execute_result"
    }
   ],
   "source": [
    "df.describe()"
   ]
  },
  {
   "cell_type": "code",
   "execution_count": 7,
   "id": "flexible-serum",
   "metadata": {},
   "outputs": [
    {
     "data": {
      "text/plain": [
       "10"
      ]
     },
     "execution_count": 7,
     "metadata": {},
     "output_type": "execute_result"
    }
   ],
   "source": [
    "df.artists.count()"
   ]
  },
  {
   "cell_type": "code",
   "execution_count": 8,
   "id": "appointed-configuration",
   "metadata": {},
   "outputs": [
    {
     "data": {
      "text/plain": [
       "acousticness             0.625324\n",
       "danceability             0.539046\n",
       "duration_ms         232485.356808\n",
       "energy                   0.460544\n",
       "instrumentalness         0.046830\n",
       "liveness                 0.304853\n",
       "loudness               -13.104775\n",
       "speechiness              0.153385\n",
       "tempo                  117.100173\n",
       "valence                  0.555244\n",
       "popularity              24.975189\n",
       "key                      5.800000\n",
       "mode                     0.900000\n",
       "count                   21.300000\n",
       "dtype: float64"
      ]
     },
     "execution_count": 8,
     "metadata": {},
     "output_type": "execute_result"
    }
   ],
   "source": [
    "media = df.mean()\n",
    "media"
   ]
  },
  {
   "cell_type": "code",
   "execution_count": 9,
   "id": "least-shore",
   "metadata": {},
   "outputs": [
    {
     "name": "stdout",
     "output_type": "stream",
     "text": [
      "acousticness             0.661750\n",
      "danceability             0.477217\n",
      "duration_ms         240697.731481\n",
      "energy                   0.440404\n",
      "instrumentalness         0.017427\n",
      "liveness                 0.279266\n",
      "loudness               -12.562150\n",
      "speechiness              0.139100\n",
      "tempo                  122.676845\n",
      "valence                  0.453393\n",
      "popularity              33.017296\n",
      "key                      6.000000\n",
      "mode                     1.000000\n",
      "count                    8.500000\n",
      "dtype: float64\n"
     ]
    }
   ],
   "source": [
    "mediana = df.median()\n",
    "print (mediana)"
   ]
  },
  {
   "cell_type": "code",
   "execution_count": 10,
   "id": "ethical-flight",
   "metadata": {},
   "outputs": [
    {
     "data": {
      "text/plain": [
       "acousticness        8.343874e-02\n",
       "danceability        1.878744e-02\n",
       "duration_ms         3.790309e+09\n",
       "energy              3.337188e-02\n",
       "instrumentalness    3.480239e-03\n",
       "liveness            3.060404e-02\n",
       "loudness            2.121321e+01\n",
       "speechiness         3.322773e-03\n",
       "tempo               4.534951e+02\n",
       "valence             5.820758e-02\n",
       "popularity          2.831884e+02\n",
       "key                 1.262222e+01\n",
       "mode                1.000000e-01\n",
       "count               9.877889e+02\n",
       "dtype: float64"
      ]
     },
     "execution_count": 10,
     "metadata": {},
     "output_type": "execute_result"
    }
   ],
   "source": [
    "varianza = df.var()\n",
    "varianza"
   ]
  },
  {
   "cell_type": "code",
   "execution_count": 11,
   "id": "dense-hayes",
   "metadata": {},
   "outputs": [
    {
     "data": {
      "text/plain": [
       "artists               $0dg0d\n",
       "acousticness           0.927\n",
       "danceability           0.734\n",
       "duration_ms         328920.0\n",
       "energy                 0.822\n",
       "instrumentalness       0.186\n",
       "liveness               0.737\n",
       "loudness              -5.387\n",
       "speechiness            0.256\n",
       "tempo                141.948\n",
       "valence                0.902\n",
       "popularity              42.0\n",
       "key                       10\n",
       "mode                       1\n",
       "count                    106\n",
       "dtype: object"
      ]
     },
     "execution_count": 11,
     "metadata": {},
     "output_type": "execute_result"
    }
   ],
   "source": [
    "maximo = df.max()\n",
    "maximo"
   ]
  },
  {
   "cell_type": "code",
   "execution_count": 12,
   "id": "handmade-recipe",
   "metadata": {},
   "outputs": [
    {
     "data": {
      "text/plain": [
       "artists             \"Cats\" 1981 Original London Cast\n",
       "acousticness                                    0.11\n",
       "danceability                                0.348286\n",
       "duration_ms                                 135533.0\n",
       "energy                                       0.24577\n",
       "instrumentalness                            0.000009\n",
       "liveness                                       0.154\n",
       "loudness                                     -20.615\n",
       "speechiness                                 0.082275\n",
       "tempo                                      77.375857\n",
       "valence                                     0.268865\n",
       "popularity                                       0.0\n",
       "key                                                0\n",
       "mode                                               0\n",
       "count                                              2\n",
       "dtype: object"
      ]
     },
     "execution_count": 12,
     "metadata": {},
     "output_type": "execute_result"
    }
   ],
   "source": [
    "minimo = df.min()\n",
    "minimo"
   ]
  },
  {
   "cell_type": "code",
   "execution_count": null,
   "id": "matched-electricity",
   "metadata": {},
   "outputs": [],
   "source": []
  },
  {
   "cell_type": "code",
   "execution_count": 13,
   "id": "banner-lincoln",
   "metadata": {},
   "outputs": [],
   "source": [
    "import pandas as pd\n",
    "df = pd.read_csv('Examen/data_by_artist.csv')\n",
    "import matplotlib.pyplot as plt\n",
    "%matplotlib inline\n",
    "import numpy as np\n",
    "import seaborn as sns\n",
    "from matplotlib import pyplot as plt \n",
    "%matplotlib inline"
   ]
  },
  {
   "cell_type": "code",
   "execution_count": 14,
   "id": "traditional-furniture",
   "metadata": {},
   "outputs": [
    {
     "name": "stdout",
     "output_type": "stream",
     "text": [
      "(32539, 15)\n"
     ]
    },
    {
     "data": {
      "text/plain": [
       "Index(['artists', 'acousticness', 'danceability', 'duration_ms', 'energy',\n",
       "       'instrumentalness', 'liveness', 'loudness', 'speechiness', 'tempo',\n",
       "       'valence', 'popularity', 'key', 'mode', 'count'],\n",
       "      dtype='object')"
      ]
     },
     "execution_count": 14,
     "metadata": {},
     "output_type": "execute_result"
    }
   ],
   "source": [
    "print (df.shape)\n",
    "df.columns"
   ]
  },
  {
   "cell_type": "code",
   "execution_count": null,
   "id": "tender-council",
   "metadata": {},
   "outputs": [],
   "source": [
    "sns.pairplot(df, kind = 'reg')"
   ]
  },
  {
   "cell_type": "code",
   "execution_count": null,
   "id": "identical-pollution",
   "metadata": {},
   "outputs": [],
   "source": []
  },
  {
   "cell_type": "code",
   "execution_count": null,
   "id": "indian-brunswick",
   "metadata": {},
   "outputs": [],
   "source": []
  }
 ],
 "metadata": {
  "kernelspec": {
   "display_name": "Python 3",
   "language": "python",
   "name": "python3"
  },
  "language_info": {
   "codemirror_mode": {
    "name": "ipython",
    "version": 3
   },
   "file_extension": ".py",
   "mimetype": "text/x-python",
   "name": "python",
   "nbconvert_exporter": "python",
   "pygments_lexer": "ipython3",
   "version": "3.8.5"
  }
 },
 "nbformat": 4,
 "nbformat_minor": 5
}
